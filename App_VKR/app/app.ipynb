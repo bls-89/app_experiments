{
  "nbformat": 4,
  "nbformat_minor": 0,
  "metadata": {
    "colab": {
      "provenance": []
    },
    "kernelspec": {
      "name": "python3",
      "display_name": "Python 3"
    },
    "language_info": {
      "name": "python"
    }
  },
  "cells": [
    {
      "cell_type": "code",
      "execution_count": 1,
      "metadata": {
        "id": "19844c69"
      },
      "outputs": [],
      "source": [
        "# Импорт библиотек\n",
        "import numpy as np\n",
        "import tensorflow as tf\n",
        "from tensorflow import keras\n",
        "from flask import Flask, request, render_template"
      ]
    },
    {
      "cell_type": "code",
      "execution_count": 2,
      "metadata": {
        "id": "e24b3dff"
      },
      "outputs": [],
      "source": [
        "app = Flask(__name__)"
      ]
    },
    {
      "cell_type": "code",
      "execution_count": 3,
      "metadata": {
        "id": "0be09815"
      },
      "outputs": [],
      "source": [
        "# Загрузка модели и передача в функцию параметров  -  свойств \n",
        "\n",
        "def get_prediction(property1, property2, property3, property4, property5, property6, property7, property8, property9, property10, property11, property12):\n",
        "\n",
        "    model = keras.models.load_model(\"/content/models/matrica_napolnitel_best_params_mlp\")\n",
        "    pred = model.predict([property1, property2, property3, property4, property5, property6, property7, property8, property9, property10, property11, property12])\n",
        "\n",
        "    return pred[0][0]"
      ]
    },
    {
      "cell_type": "code",
      "source": [
        "@app.route('/')\n",
        "def index():\n",
        "    return \"main\"\n"
      ],
      "metadata": {
        "id": "xDXkF7wcoOJz"
      },
      "execution_count": 4,
      "outputs": []
    },
    {
      "cell_type": "code",
      "execution_count": 5,
      "metadata": {
        "id": "e52d8aed"
      },
      "outputs": [],
      "source": [
        "@app.route('/', methods=['post', 'get'])\n",
        "\n",
        "def calc_prediction():\n",
        "    properties_list = []\n",
        "    message = ''\n",
        "    if request.method == 'POST':\n",
        "        \n",
        "       #  данные из заполненной формы поступают в список, который затем передадается функции get_prediction\n",
        "        for i in range(1,13,1):\n",
        "            property = request.form.get(f'property{i}')\n",
        "            properties_list.append(float(property))\n",
        "            \n",
        "        message = get_prediction(*properties_list)\n",
        "\n",
        "    # рендеринг шаблона и вывод сообщения с предсказанием    \n",
        "    return render_template(\"/content/templates/index.html\", message=message) \n",
        "\n"
      ]
    },
    {
      "cell_type": "code",
      "source": [
        "# Запуск приложения  \n",
        "if __name__ == '__main__':\n",
        "  app.run()"
      ],
      "metadata": {
        "colab": {
          "base_uri": "https://localhost:8080/"
        },
        "id": "w-MnW1535Oky",
        "outputId": "72201a42-6e26-4e57-ce51-df94b6aab1a9"
      },
      "execution_count": 6,
      "outputs": [
        {
          "output_type": "stream",
          "name": "stdout",
          "text": [
            " * Serving Flask app \"__main__\" (lazy loading)\n",
            " * Environment: production\n",
            "\u001b[31m   WARNING: This is a development server. Do not use it in a production deployment.\u001b[0m\n",
            "\u001b[2m   Use a production WSGI server instead.\u001b[0m\n",
            " * Debug mode: off\n"
          ]
        },
        {
          "output_type": "stream",
          "name": "stderr",
          "text": [
            "INFO:werkzeug: * Running on http://127.0.0.1:5000/ (Press CTRL+C to quit)\n"
          ]
        }
      ]
    }
  ]
}